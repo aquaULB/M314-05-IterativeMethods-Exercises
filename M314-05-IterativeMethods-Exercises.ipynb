{
 "cells": [
  {
   "cell_type": "markdown",
   "metadata": {},
   "source": [
    "## Nom / Prénom :"
   ]
  },
  {
   "cell_type": "markdown",
   "metadata": {},
   "source": [
    "*Remarque: en soumettant ce travail, vous vous engagez à le faire de manière individuelle. Tout plagiat sera sanctionné selon le réglement en vigueur à l'Université Libre de Bruxelles.*\n",
    "\n",
    "*Répondez aux différentes questions dans les cellules prévues à cet effet. Vous pouvez en créer de nouvelles pour introduire vos remarques éventuelles.*\n",
    "\n",
    "*La date limite de remise de ce travail est le 16/12/2020 à 23h59:59s. Après cette date, il ne sera pas comptabilisé.*"
   ]
  },
  {
   "cell_type": "markdown",
   "metadata": {},
   "source": [
    "## Question 1\n",
    "\n",
    "Consider the Poisson equation in the domain $\\displaystyle [0, 1]\\times [-\\frac12, \\frac12]$  with the following right-hand side term:\n",
    "\n",
    "\\begin{equation}\n",
    "b = \\sin(\\pi x) \\cos(\\pi y) + \\sin(5\\pi x) \\cos(5\\pi y)\n",
    "\\end{equation}\n",
    "\n",
    "We assume that the solution satisfies Dirichlet boundary conditions.\n",
    "\n",
    "Solve the above problem using the successive over-relaxation method with the parameter $\\omega=1.5$:\n",
    "\n",
    "\\begin{align*}\n",
    "    \\label{eq:iterkSolSOR}\n",
    "{\\tilde p}_{i,j}&=\\frac14(p^{k+1}_{i-1,j}+p^k_{i+1,j}+p^{k+1}_{i,j-1}+p^k_{i,j+1})-\\frac14b_{i,j}\\Delta^2 \\\\\n",
    "p^{k+1}_{i,j}&=p^{k}_{i,j}+\\omega ({\\tilde p}_{i,j}-p^{k}_{i,j})\n",
    "\\end{align*}\n",
    "\n",
    "The equation has been discretized on a uniform grid in both directions $x$-$y$. For your solution use `nx=ny=101` grid points in both directions.\n",
    "\n",
    "You must accelerate your algorithm using **Numba jit compilation**."
   ]
  },
  {
   "cell_type": "markdown",
   "metadata": {},
   "source": [
    "**Exercise 1.1 (2 points):** \n",
    "\n",
    "Starting with the initial guess $p^0=0$, how many iterations are necessary for convergence of the iterative method, so that the $L2$-norm between $p^{k+1}$ and $p^k$ is smaller than the tolerance $10^{-10}$?\n",
    "\n",
    "**Exercise 1.2 (1 point):**\n",
    "\n",
    "What is the value of $p$ at point $(x,y)=(0.48,0.02)$ after $N$ iterations, where $N$ is your answer to the Exercise 1.1?\n",
    "\n",
    "**Exercise 1.3 (2 points):**\n",
    "\n",
    "By making a parametric study on $\\omega \\in [0,1]$, estimate the value of $\\omega$ than minimizes the number of iterations required to reach a tolerance of $10^{-10}$.\n"
   ]
  },
  {
   "cell_type": "markdown",
   "metadata": {},
   "source": [
    "## Question 2\n",
    "\n",
    "Consider the biharmonic equation,\n",
    "\n",
    "\\begin{align}\n",
    "    \\nabla^2\\nabla^2 p = 0,\\;\\; \\nabla^2 = \\frac{\\partial^2}{\\partial x^2} + \\frac{\\partial^2}{\\partial y^2}\n",
    "\\end{align}\n",
    "\n",
    "in the following domain:\n",
    "\n",
    "<img width=\"450px\" src=\"bihar.png\">\n",
    "\n",
    "The boundary conditions for the problem are indicated in the figure."
   ]
  },
  {
   "cell_type": "markdown",
   "metadata": {},
   "source": [
    "**Exercise 2.1 (1 point):** \n",
    "    \n",
    "What is the second-order, central finite difference discretization of the biharmonic equation if all second-order derivatives are discretized using central finite difference discretization of second-order?\n",
    "\n",
    "**Exercise 2.2 (2 points):**\n",
    "\n",
    "Solve the biharmonic equation using the conjugate gradient method. Starting with the initial guess $p^0=0$, how many iterations are necessary for the iterative method to converge, so that the $L2$-norm between $p^{k+1}$ and $p^k$ is smaller than the tolerance $10^{-10}$?\n",
    "\n",
    "**Exercise 2.3 (1 points):**\n",
    "\n",
    "What is the value of the p at locations (x,y): (0.6,0.2), (0.6,0.4), (0.6,0.6), (0.6,0.8) after $N$ iteration, where $N$ is your answer to the Exercise 2.2?\n",
    "\n",
    "**Exercise 2.4 (1 points):**\n",
    "\n",
    "Make a 2D plot of your solution. Make sure your solution satisfies the boundary conditions."
   ]
  }
 ],
 "metadata": {
  "jupytext": {
   "formats": "ipynb,md:myst",
   "text_representation": {
    "extension": ".md",
    "format_name": "myst",
    "format_version": 0.12,
    "jupytext_version": "1.6.0"
   }
  },
  "kernelspec": {
   "display_name": "Python 3",
   "language": "python",
   "name": "python3"
  },
  "language_info": {
   "codemirror_mode": {
    "name": "ipython",
    "version": 3
   },
   "file_extension": ".py",
   "mimetype": "text/x-python",
   "name": "python",
   "nbconvert_exporter": "python",
   "pygments_lexer": "ipython3",
   "version": "3.8.3"
  },
  "latex_envs": {
   "LaTeX_envs_menu_present": true,
   "autoclose": false,
   "autocomplete": false,
   "bibliofile": "biblio.bib",
   "cite_by": "apalike",
   "current_citInitial": 1,
   "eqLabelWithNumbers": true,
   "eqNumInitial": 1,
   "hotkeys": {
    "equation": "Ctrl-E",
    "itemize": "Ctrl-I"
   },
   "labels_anchors": false,
   "latex_user_defs": false,
   "report_style_numbering": true,
   "user_envs_cfg": true
  },
  "toc": {
   "base_numbering": 1,
   "nav_menu": {},
   "number_sections": false,
   "sideBar": true,
   "skip_h1_title": true,
   "title_cell": "Table of Contents",
   "title_sidebar": "Contents",
   "toc_cell": false,
   "toc_position": {},
   "toc_section_display": true,
   "toc_window_display": false
  },
  "varInspector": {
   "cols": {
    "lenName": 16,
    "lenType": 16,
    "lenVar": 40
   },
   "kernels_config": {
    "python": {
     "delete_cmd_postfix": "",
     "delete_cmd_prefix": "del ",
     "library": "var_list.py",
     "varRefreshCmd": "print(var_dic_list())"
    },
    "r": {
     "delete_cmd_postfix": ") ",
     "delete_cmd_prefix": "rm(",
     "library": "var_list.r",
     "varRefreshCmd": "cat(var_dic_list()) "
    }
   },
   "types_to_exclude": [
    "module",
    "function",
    "builtin_function_or_method",
    "instance",
    "_Feature"
   ],
   "window_display": false
  }
 },
 "nbformat": 4,
 "nbformat_minor": 4
}
